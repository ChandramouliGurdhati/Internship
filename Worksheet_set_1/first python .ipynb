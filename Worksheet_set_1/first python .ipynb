{
 "cells": [
  {
   "cell_type": "code",
   "execution_count": null,
   "id": "430aa03a",
   "metadata": {},
   "outputs": [],
   "source": [
    "                                        PYTHON WORKSHEET - 1\n",
    "1.   C ( % )\n",
    "2.   B ( 0 )\n",
    "3.   C ( 24)\n",
    "4.   A ( 2 )\n",
    "5.   D ( 6 )\n",
    "6.   C (the finally block will be executed no matter if the try block raises an error or not.)\n",
    "7.   A (It is used to raised an exception.)\n",
    "8.   C (in defining a generator.)\n",
    "9.   A & C (_abc & abc2)\n",
    "10.  A & B (yield & raise)\n"
   ]
  },
  {
   "cell_type": "code",
   "execution_count": null,
   "id": "89b59a78",
   "metadata": {},
   "outputs": [],
   "source": [
    "   11. PROGRAM FOR FACTORIAL OF A NUMBER"
   ]
  },
  {
   "cell_type": "code",
   "execution_count": 6,
   "id": "995001a2",
   "metadata": {},
   "outputs": [
    {
     "name": "stdout",
     "output_type": "stream",
     "text": [
      "Enter a number: 25\n",
      "25!=15511210043330985984000000\n"
     ]
    }
   ],
   "source": [
    "from math import factorial \n",
    " \n",
    "try:  \n",
    " a=int(input(\"Enter a number: \")) \n",
    " print(f\"{a}!={factorial(a)}\") \n",
    "except ValueError as v: \n",
    " if str(v).startswith(\"factorial\"): \n",
    "    print(\"No negative numbers!\") \n",
    " else: \n",
    "    print(\"Not a valid number input!\")"
   ]
  },
  {
   "cell_type": "code",
   "execution_count": null,
   "id": "dffeb132",
   "metadata": {},
   "outputs": [],
   "source": [
    "    12.  PROGRAM TO CHECK WHETHER A NUMBER IS PRIME OR COMPOSITE\n",
    "    "
   ]
  },
  {
   "cell_type": "code",
   "execution_count": 8,
   "id": "3dc7069e",
   "metadata": {},
   "outputs": [
    {
     "name": "stdout",
     "output_type": "stream",
     "text": [
      "Enter the number you want to check = 11\n",
      "The number is prime\n"
     ]
    }
   ],
   "source": [
    "import math \n",
    "n=int(input(\"Enter the number you want to check = \")) \n",
    "if ((math.factorial(n-1)) +1)% n == 0: \n",
    "    print(\"The number is prime\") \n",
    "else: \n",
    "    print(\"The number is not prime\") \n"
   ]
  },
  {
   "cell_type": "code",
   "execution_count": null,
   "id": "8d853cc9",
   "metadata": {},
   "outputs": [],
   "source": [
    "        13. PROGRAM TO CHECK GIVEN STRING IS PALINDROME OR NOT\n",
    "    "
   ]
  },
  {
   "cell_type": "code",
   "execution_count": 15,
   "id": "65ff141a",
   "metadata": {},
   "outputs": [
    {
     "name": "stdout",
     "output_type": "stream",
     "text": [
      "Enter the String: mouli\n",
      "mouli  : is not a Palindrome String\n"
     ]
    }
   ],
   "source": [
    "a = input(\"Enter the String: \") \n",
    "len_a = len(a) \n",
    "y = int(len_a/2) \n",
    " \n",
    " \n",
    "if a[0:y] == a[-1:-y-1:-1]: \n",
    "    print(a, \" : is a Palindrome String\") \n",
    "else: \n",
    "    print(a, \" : is not a Palindrome String\") \n"
   ]
  },
  {
   "cell_type": "code",
   "execution_count": null,
   "id": "24582e78",
   "metadata": {},
   "outputs": [],
   "source": [
    "         14.python program to get the third side of the right angled triangle"
   ]
  },
  {
   "cell_type": "code",
   "execution_count": 18,
   "id": "e6497209",
   "metadata": {},
   "outputs": [
    {
     "name": "stdout",
     "output_type": "stream",
     "text": [
      "Enter base: 50\n",
      "Enter height: 50\n",
      "Enter angle: 90\n",
      "Hypotenuse = 70.71067811865476\n"
     ]
    }
   ],
   "source": [
    "import math\n",
    "\n",
    "a = float(input(\"Enter base: \"))\n",
    "b = float(input(\"Enter height: \"))\n",
    "x = float(input(\"Enter angle: \"))\n",
    "\n",
    "c = math.sqrt(a ** 2 + b ** 2)\n",
    "\n",
    "print(\"Hypotenuse =\", c)"
   ]
  },
  {
   "cell_type": "code",
   "execution_count": null,
   "id": "edf3f560",
   "metadata": {},
   "outputs": [],
   "source": [
    "        15.python program for frequency of each characters present in a given string\n",
    "    "
   ]
  },
  {
   "cell_type": "code",
   "execution_count": 26,
   "id": "68466ba8",
   "metadata": {},
   "outputs": [
    {
     "name": "stdout",
     "output_type": "stream",
     "text": [
      "Count of all characters in GeeksforGeeks is :\n",
      " Counter({'e': 4, 'G': 2, 'k': 2, 's': 2, 'f': 1, 'o': 1, 'r': 1})\n"
     ]
    }
   ],
   "source": [
    "from collections import Counter\n",
    "  \n",
    "# initializing string \n",
    "test_str = \"GeeksforGeeks\"\n",
    "  \n",
    "# using collections.Counter() to get \n",
    "# count of each element in string \n",
    "res = Counter(test_str)\n",
    "  \n",
    "# printing result \n",
    "print (\"Count of all characters in GeeksforGeeks is :\\n \"\n",
    "                                           +  str(res))"
   ]
  },
  {
   "cell_type": "code",
   "execution_count": null,
   "id": "084f31f2",
   "metadata": {},
   "outputs": [],
   "source": []
  }
 ],
 "metadata": {
  "kernelspec": {
   "display_name": "Python 3 (ipykernel)",
   "language": "python",
   "name": "python3"
  },
  "language_info": {
   "codemirror_mode": {
    "name": "ipython",
    "version": 3
   },
   "file_extension": ".py",
   "mimetype": "text/x-python",
   "name": "python",
   "nbconvert_exporter": "python",
   "pygments_lexer": "ipython3",
   "version": "3.9.7"
  }
 },
 "nbformat": 4,
 "nbformat_minor": 5
}
